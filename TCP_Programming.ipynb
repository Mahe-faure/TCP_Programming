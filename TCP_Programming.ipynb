{
  "nbformat": 4,
  "nbformat_minor": 0,
  "metadata": {
    "colab": {
      "provenance": [],
      "authorship_tag": "ABX9TyPtlOx7VGWc1BoxLFU8d2pc",
      "include_colab_link": true
    },
    "kernelspec": {
      "name": "python3",
      "display_name": "Python 3"
    },
    "language_info": {
      "name": "python"
    }
  },
  "cells": [
    {
      "cell_type": "markdown",
      "metadata": {
        "id": "view-in-github",
        "colab_type": "text"
      },
      "source": [
        "<a href=\"https://colab.research.google.com/github/Mahe-faure/TCP_Programming/blob/main/TCP_Programming.ipynb\" target=\"_parent\"><img src=\"https://colab.research.google.com/assets/colab-badge.svg\" alt=\"Open In Colab\"/></a>"
      ]
    },
    {
      "cell_type": "markdown",
      "source": [],
      "metadata": {
        "id": "rhQuHk0DpzmQ"
      }
    },
    {
      "cell_type": "code",
      "execution_count": 12,
      "metadata": {
        "colab": {
          "base_uri": "https://localhost:8080/"
        },
        "id": "VCjIM14WlqBr",
        "outputId": "2b660012-2774-4ed8-a901-839cfb196cf9"
      },
      "outputs": [
        {
          "output_type": "stream",
          "name": "stdout",
          "text": [
            "Overwriting setup_tcp_lab.sh\n"
          ]
        }
      ],
      "source": [
        "%%writefile setup_tcp_lab.sh\n",
        "\n",
        "#!/bin/bash\n",
        "\n",
        "setup_tcp_server() {\n",
        "    echo \"Setting up TCP server on port 12345 using netcat...\"\n",
        "    echo \"Hello from Client 1\" | nc -l 12345\n",
        "}\n",
        "\n",
        "setup_tcp_server1() {\n",
        "    echo \"Setting up TCP server 1...\"\n",
        "    echo \"Hello from Client 1\" | nc localhost 12345\n",
        "}\n",
        "\n",
        "setup_tcp_server2() {\n",
        "    echo \"Setting up TCP server 2...\"\n",
        "    echo \"Hello from Client 2\" | nc localhost 12345\n",
        "}\n",
        "\n",
        "test_latency() {\n",
        "  echo \"Testing latency to localhost...\"\n",
        "  ping -c 4 localhost\n",
        "}\n",
        "\n",
        "test bandwidth(){\n",
        "  echo \"Testing bandwidth using iperf3...\"\n",
        "  iperf3 -c localhost\n",
        "}\n",
        "\n",
        "install_xinetd() {\n",
        "    echo \"Intalling xinetd...\"\n",
        "    sudo apt update\n",
        "    sudo apt install -y xinetd\n",
        "}\n",
        "\n",
        "main() {\n",
        "    echo \"Starting the lab session setup...\"\n",
        "\n",
        "    setup_tcp_server &\n",
        "    sleep 2\n",
        "\n",
        "    setup_tcp_server1\n",
        "}\n",
        "\n",
        "main"
      ]
    },
    {
      "cell_type": "code",
      "source": [
        "!chmod 755 setup_tcp_lab.sh"
      ],
      "metadata": {
        "id": "EEZu7xDBr14D"
      },
      "execution_count": 11,
      "outputs": []
    },
    {
      "cell_type": "code",
      "source": [
        "!apt-get install -y iputils-ping iperf3 netcat\n",
        "!./setup_tcp_lab.sh"
      ],
      "metadata": {
        "colab": {
          "base_uri": "https://localhost:8080/"
        },
        "id": "7le24xswsjJh",
        "outputId": "d89c6a7d-817b-4f19-d47d-3817611c7431"
      },
      "execution_count": 13,
      "outputs": [
        {
          "output_type": "stream",
          "name": "stdout",
          "text": [
            "Reading package lists... Done\n",
            "Building dependency tree... Done\n",
            "Reading state information... Done\n",
            "iputils-ping is already the newest version (3:20211215-1).\n",
            "iperf3 is already the newest version (3.9-1build1).\n",
            "netcat is already the newest version (1.218-4ubuntu1).\n",
            "0 upgraded, 0 newly installed, 0 to remove and 19 not upgraded.\n",
            "Starting the lab session setup...\n",
            "Intalling xinetd...\n",
            "Setting up TCP server in port 122345 using netcat...\n",
            "Hit:1 http://archive.ubuntu.com/ubuntu jammy InRelease\n",
            "Hit:2 http://archive.ubuntu.com/ubuntu jammy-updates InRelease\n",
            "Hit:3 https://ppa.launchpadcontent.net/c2d4u.team/c2d4u4.0+/ubuntu jammy InRelease\n",
            "Hit:4 http://archive.ubuntu.com/ubuntu jammy-backports InRelease\n",
            "Hit:5 https://developer.download.nvidia.com/compute/cuda/repos/ubuntu2204/x86_64  InRelease\n",
            "Hit:6 https://ppa.launchpadcontent.net/deadsnakes/ppa/ubuntu jammy InRelease\n",
            "Hit:7 http://security.ubuntu.com/ubuntu jammy-security InRelease\n",
            "Hit:8 https://cloud.r-project.org/bin/linux/ubuntu jammy-cran40/ InRelease\n",
            "Hit:9 https://ppa.launchpadcontent.net/graphics-drivers/ppa/ubuntu jammy InRelease\n",
            "Hit:10 https://ppa.launchpadcontent.net/ubuntugis/ppa/ubuntu jammy InRelease\n",
            "Reading package lists... Done\n",
            "Building dependency tree... Done\n",
            "Reading state information... Done\n",
            "19 packages can be upgraded. Run 'apt list --upgradable' to see them.\n",
            "Reading package lists... Done\n",
            "Building dependency tree... Done\n",
            "Reading state information... Done\n",
            "xinetd is already the newest version (1:2.3.15.3-1).\n",
            "0 upgraded, 0 newly installed, 0 to remove and 19 not upgraded.\n"
          ]
        }
      ]
    }
  ]
}