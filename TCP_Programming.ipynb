{
  "nbformat": 4,
  "nbformat_minor": 0,
  "metadata": {
    "colab": {
      "provenance": [],
      "authorship_tag": "ABX9TyNgPKjeJxySM7wIyf4i0Wm+",
      "include_colab_link": true
    },
    "kernelspec": {
      "name": "python3",
      "display_name": "Python 3"
    },
    "language_info": {
      "name": "python"
    }
  },
  "cells": [
    {
      "cell_type": "markdown",
      "metadata": {
        "id": "view-in-github",
        "colab_type": "text"
      },
      "source": [
        "<a href=\"https://colab.research.google.com/github/Mahe-faure/TCP_Programming/blob/main/TCP_Programming.ipynb\" target=\"_parent\"><img src=\"https://colab.research.google.com/assets/colab-badge.svg\" alt=\"Open In Colab\"/></a>"
      ]
    },
    {
      "cell_type": "code",
      "execution_count": null,
      "metadata": {
        "id": "VCjIM14WlqBr"
      },
      "outputs": [],
      "source": [
        "#!/bin/bash\n",
        "\n",
        "setup_tcp_server () {\n",
        "    echo \"Setting up TCP server in port 122345 using netcat...\"\n",
        "    nc -1 12345\n",
        "}\n",
        "\n",
        "install_xinetd() {\n",
        "    echo \"Intalling xinetd...\"\n",
        "    sudo apt update\n",
        "    sudo apt install -y xinetd\n",
        "}\n",
        "\n",
        "main() {\n",
        "    echo \"Starting the lab session setup...\"\n",
        "\n",
        "    setup_tcp_server &\n",
        "    install_xinetd\n",
        "}"
      ]
    }
  ]
}